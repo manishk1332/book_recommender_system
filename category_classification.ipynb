{
 "cells": [
  {
   "cell_type": "code",
   "execution_count": 99,
   "id": "7e35d334",
   "metadata": {},
   "outputs": [],
   "source": [
    "import pandas as pd\n",
    "\n",
    "books = pd.read_csv(\"books_cleaned.csv\")"
   ]
  },
  {
   "cell_type": "code",
   "execution_count": 100,
   "id": "ece95f93",
   "metadata": {},
   "outputs": [
    {
     "data": {
      "text/html": [
       "<div>\n",
       "<style scoped>\n",
       "    .dataframe tbody tr th:only-of-type {\n",
       "        vertical-align: middle;\n",
       "    }\n",
       "\n",
       "    .dataframe tbody tr th {\n",
       "        vertical-align: top;\n",
       "    }\n",
       "\n",
       "    .dataframe thead th {\n",
       "        text-align: right;\n",
       "    }\n",
       "</style>\n",
       "<table border=\"1\" class=\"dataframe\">\n",
       "  <thead>\n",
       "    <tr style=\"text-align: right;\">\n",
       "      <th></th>\n",
       "      <th>genre</th>\n",
       "      <th>count</th>\n",
       "    </tr>\n",
       "  </thead>\n",
       "  <tbody>\n",
       "    <tr>\n",
       "      <th>0</th>\n",
       "      <td>Mystery,Fiction,Mystery,Crime,Classics,Mystery...</td>\n",
       "      <td>7</td>\n",
       "    </tr>\n",
       "    <tr>\n",
       "      <th>1</th>\n",
       "      <td>Sequential Art,Graphic Novels,Sequential Art,C...</td>\n",
       "      <td>6</td>\n",
       "    </tr>\n",
       "    <tr>\n",
       "      <th>2</th>\n",
       "      <td>Romance,Historical Romance,Romance,Historical,...</td>\n",
       "      <td>5</td>\n",
       "    </tr>\n",
       "    <tr>\n",
       "      <th>3</th>\n",
       "      <td>Sequential Art,Comics,Sequential Art,Graphic N...</td>\n",
       "      <td>5</td>\n",
       "    </tr>\n",
       "    <tr>\n",
       "      <th>4</th>\n",
       "      <td>Fantasy,Fiction,Fantasy,Epic Fantasy,Fantasy,H...</td>\n",
       "      <td>4</td>\n",
       "    </tr>\n",
       "    <tr>\n",
       "      <th>...</th>\n",
       "      <td>...</td>\n",
       "      <td>...</td>\n",
       "    </tr>\n",
       "    <tr>\n",
       "      <th>22851</th>\n",
       "      <td>Language,Writing,Nonfiction,Reference,Self Hel...</td>\n",
       "      <td>1</td>\n",
       "    </tr>\n",
       "    <tr>\n",
       "      <th>22852</th>\n",
       "      <td>Education,Nonfiction,Parenting,Teaching,Childr...</td>\n",
       "      <td>1</td>\n",
       "    </tr>\n",
       "    <tr>\n",
       "      <th>22853</th>\n",
       "      <td>Science Fiction,Fiction,Space,Space Opera,Myst...</td>\n",
       "      <td>1</td>\n",
       "    </tr>\n",
       "    <tr>\n",
       "      <th>22854</th>\n",
       "      <td>Historical,Historical Fiction,Young Adult,Fict...</td>\n",
       "      <td>1</td>\n",
       "    </tr>\n",
       "    <tr>\n",
       "      <th>22855</th>\n",
       "      <td>Childrens,Picture Books,Animals,Dogs,Childrens...</td>\n",
       "      <td>1</td>\n",
       "    </tr>\n",
       "  </tbody>\n",
       "</table>\n",
       "<p>22856 rows × 2 columns</p>\n",
       "</div>"
      ],
      "text/plain": [
       "                                                   genre  count\n",
       "0      Mystery,Fiction,Mystery,Crime,Classics,Mystery...      7\n",
       "1      Sequential Art,Graphic Novels,Sequential Art,C...      6\n",
       "2      Romance,Historical Romance,Romance,Historical,...      5\n",
       "3      Sequential Art,Comics,Sequential Art,Graphic N...      5\n",
       "4      Fantasy,Fiction,Fantasy,Epic Fantasy,Fantasy,H...      4\n",
       "...                                                  ...    ...\n",
       "22851  Language,Writing,Nonfiction,Reference,Self Hel...      1\n",
       "22852  Education,Nonfiction,Parenting,Teaching,Childr...      1\n",
       "22853  Science Fiction,Fiction,Space,Space Opera,Myst...      1\n",
       "22854  Historical,Historical Fiction,Young Adult,Fict...      1\n",
       "22855  Childrens,Picture Books,Animals,Dogs,Childrens...      1\n",
       "\n",
       "[22856 rows x 2 columns]"
      ]
     },
     "execution_count": 100,
     "metadata": {},
     "output_type": "execute_result"
    }
   ],
   "source": [
    "books[\"genre\"].value_counts().reset_index()"
   ]
  },
  {
   "cell_type": "code",
   "execution_count": 102,
   "id": "94f4949f",
   "metadata": {},
   "outputs": [
    {
     "data": {
      "text/html": [
       "<div>\n",
       "<style scoped>\n",
       "    .dataframe tbody tr th:only-of-type {\n",
       "        vertical-align: middle;\n",
       "    }\n",
       "\n",
       "    .dataframe tbody tr th {\n",
       "        vertical-align: top;\n",
       "    }\n",
       "\n",
       "    .dataframe thead th {\n",
       "        text-align: right;\n",
       "    }\n",
       "</style>\n",
       "<table border=\"1\" class=\"dataframe\">\n",
       "  <thead>\n",
       "    <tr style=\"text-align: right;\">\n",
       "      <th></th>\n",
       "      <th>genre</th>\n",
       "      <th>count</th>\n",
       "    </tr>\n",
       "  </thead>\n",
       "  <tbody>\n",
       "    <tr>\n",
       "      <th>0</th>\n",
       "      <td>Mystery,Fiction,Mystery,Crime,Classics,Mystery...</td>\n",
       "      <td>7</td>\n",
       "    </tr>\n",
       "    <tr>\n",
       "      <th>1</th>\n",
       "      <td>Sequential Art,Graphic Novels,Sequential Art,C...</td>\n",
       "      <td>6</td>\n",
       "    </tr>\n",
       "    <tr>\n",
       "      <th>2</th>\n",
       "      <td>Romance,Historical Romance,Romance,Historical,...</td>\n",
       "      <td>5</td>\n",
       "    </tr>\n",
       "    <tr>\n",
       "      <th>3</th>\n",
       "      <td>Sequential Art,Comics,Sequential Art,Graphic N...</td>\n",
       "      <td>5</td>\n",
       "    </tr>\n",
       "  </tbody>\n",
       "</table>\n",
       "</div>"
      ],
      "text/plain": [
       "                                               genre  count\n",
       "0  Mystery,Fiction,Mystery,Crime,Classics,Mystery...      7\n",
       "1  Sequential Art,Graphic Novels,Sequential Art,C...      6\n",
       "2  Romance,Historical Romance,Romance,Historical,...      5\n",
       "3  Sequential Art,Comics,Sequential Art,Graphic N...      5"
      ]
     },
     "execution_count": 102,
     "metadata": {},
     "output_type": "execute_result"
    }
   ],
   "source": [
    "books[\"genre\"].value_counts().reset_index().query(\"count > 4\")"
   ]
  },
  {
   "cell_type": "code",
   "execution_count": 103,
   "id": "480e181a",
   "metadata": {},
   "outputs": [
    {
     "data": {
      "text/html": [
       "<div>\n",
       "<style scoped>\n",
       "    .dataframe tbody tr th:only-of-type {\n",
       "        vertical-align: middle;\n",
       "    }\n",
       "\n",
       "    .dataframe tbody tr th {\n",
       "        vertical-align: top;\n",
       "    }\n",
       "\n",
       "    .dataframe thead th {\n",
       "        text-align: right;\n",
       "    }\n",
       "</style>\n",
       "<table border=\"1\" class=\"dataframe\">\n",
       "  <thead>\n",
       "    <tr style=\"text-align: right;\">\n",
       "      <th></th>\n",
       "      <th>author</th>\n",
       "      <th>desc</th>\n",
       "      <th>genre</th>\n",
       "      <th>img</th>\n",
       "      <th>isbn</th>\n",
       "      <th>link</th>\n",
       "      <th>pages</th>\n",
       "      <th>rating</th>\n",
       "      <th>reviews</th>\n",
       "      <th>title</th>\n",
       "      <th>totalratings</th>\n",
       "      <th>tagged_description</th>\n",
       "    </tr>\n",
       "  </thead>\n",
       "  <tbody>\n",
       "  </tbody>\n",
       "</table>\n",
       "</div>"
      ],
      "text/plain": [
       "Empty DataFrame\n",
       "Columns: [author, desc, genre, img, isbn, link, pages, rating, reviews, title, totalratings, tagged_description]\n",
       "Index: []"
      ]
     },
     "execution_count": 103,
     "metadata": {},
     "output_type": "execute_result"
    }
   ],
   "source": [
    "books[books[\"genre\"]==\"Art,Crafts\"]"
   ]
  },
  {
   "cell_type": "code",
   "execution_count": 107,
   "id": "64ceb4f9",
   "metadata": {},
   "outputs": [],
   "source": [
    "category_mapping = {\n",
    "  \"Nonfiction\": \"Nonfiction\",\n",
    "  \"History\": \"Nonfiction\",\n",
    "  \"Games,Chess\": \"Nonfiction\",\n",
    "  \"Esoterica,Astrology\": \"Nonfiction\",\n",
    "  \"History,Nonfiction\": \"Nonfiction\",\n",
    "  \"Music\": \"Nonfiction\",\n",
    "  \"Combat,Martial Arts\": \"Nonfiction\",\n",
    "  \"Crafts,Quilting\": \"Nonfiction\",\n",
    "  \"Science,Mathematics\": \"Nonfiction\",\n",
    "  \"Art\": \"Nonfiction\",\n",
    "  \"Poetry\": \"Fiction\",\n",
    "  \"Nurses,Nursing\": \"Nonfiction\",\n",
    "  \"Fiction\": \"Fiction\",\n",
    "  \"Occult,Tarot\": \"Nonfiction\",\n",
    "  \"Romance,Romance,African American Romance\": \"Fiction\",\n",
    "  \"Childrens\": \"Fiction\",\n",
    "  \"Reference\": \"Nonfiction\",\n",
    "  \"Alcohol,Wine\": \"Nonfiction\",\n",
    "  \"Philosophy\": \"Nonfiction\",\n",
    "  \"Romance\": \"Fiction\",\n",
    "  \"Literature,Marathi\": \"Fiction\",\n",
    "  \"Crafts,Origami\": \"Nonfiction\",\n",
    "  \"Architecture\": \"Nonfiction\",\n",
    "  \"Nonfiction,History\": \"Nonfiction\",\n",
    "  \"Travel\": \"Nonfiction\",\n",
    "  \"Science\": \"Nonfiction\",\n",
    "  \"Romance,African American Romance\": \"Fiction\",\n",
    "  \"Crafts,Sewing\": \"Nonfiction\",\n",
    "  \"Cultural,Africa\": \"Nonfiction\",\n",
    "  \"Spirituality\": \"Nonfiction\",\n",
    "  \"Crafts,Knitting,Art,Crafts,Nonfiction\": \"Nonfiction\",\n",
    "  \"Social Science,Social Work\": \"Nonfiction\",\n",
    "  \"Food and Drink,Cookbooks\": \"Nonfiction\",\n",
    "  \"Romance,African American Romance,Romance\": \"Fiction\",\n",
    "  \"Gardening,Nonfiction\": \"Nonfiction\",\n",
    "  \"Couture,Fashion\": \"Nonfiction\",\n",
    "  \"Childrens,Picture Books,Childrens\": \"Fiction\",\n",
    "  \"Aviation\": \"Nonfiction\",\n",
    "  \"Crafts,Knitting,Nonfiction,Art,Crafts\": \"Nonfiction\",\n",
    "  \"Gardening\": \"Nonfiction\",\n",
    "  \"Crafts,Crochet\": \"Nonfiction\",\n",
    "  \"Games,Role Playing Games\": \"Fiction\",\n",
    "  \"Biography\": \"Nonfiction\",\n",
    "  \"Business\": \"Nonfiction\",\n",
    "  \"Religion\": \"Nonfiction\",\n",
    "  \"Science,Chemistry\": \"Nonfiction\",\n",
    "  \"Art,Art,Drawing\": \"Nonfiction\",\n",
    "  \"Labor\": \"Nonfiction\",\n",
    "  \"Art,Crafts\": \"Nonfiction\",\n",
    "  \"Sports,Cycling\": \"Nonfiction\",\n",
    "  \"Sports,Baseball,Sports,Sports,Nonfiction\": \"Nonfiction\",\n",
    "  \"Fantasy\": \"Fiction\",\n",
    "  \"Mystery\": \"Fiction\",\n",
    "  \"Cultural,Iran\": \"Nonfiction\",\n",
    "  \"Childrens,Picture Books\": \"Fiction\",\n",
    "  \"Harlequin,Harlequin Romance\": \"Fiction\",\n",
    "  \"Games,Role Playing Games,Fantasy\": \"Fiction\",\n",
    "  \"Westerns\":\"Fiction\",\n",
    "  \"Westerns,Fiction\": \"Fiction\",\n",
    "  \"Asian Literature,Turkish Literature\": \"Fiction\",\n",
    "  \"Horror\": \"Fiction\"\n",
    "}\n"
   ]
  },
  {
   "cell_type": "code",
   "execution_count": 108,
   "id": "53ba9609",
   "metadata": {},
   "outputs": [],
   "source": [
    "books[\"simple_categories\"] = books[\"genre\"].map(category_mapping)"
   ]
  },
  {
   "cell_type": "code",
   "execution_count": 109,
   "id": "3686221a",
   "metadata": {},
   "outputs": [
    {
     "data": {
      "text/html": [
       "<div>\n",
       "<style scoped>\n",
       "    .dataframe tbody tr th:only-of-type {\n",
       "        vertical-align: middle;\n",
       "    }\n",
       "\n",
       "    .dataframe tbody tr th {\n",
       "        vertical-align: top;\n",
       "    }\n",
       "\n",
       "    .dataframe thead th {\n",
       "        text-align: right;\n",
       "    }\n",
       "</style>\n",
       "<table border=\"1\" class=\"dataframe\">\n",
       "  <thead>\n",
       "    <tr style=\"text-align: right;\">\n",
       "      <th></th>\n",
       "      <th>author</th>\n",
       "      <th>desc</th>\n",
       "      <th>genre</th>\n",
       "      <th>img</th>\n",
       "      <th>isbn</th>\n",
       "      <th>link</th>\n",
       "      <th>pages</th>\n",
       "      <th>rating</th>\n",
       "      <th>reviews</th>\n",
       "      <th>title</th>\n",
       "      <th>totalratings</th>\n",
       "      <th>tagged_description</th>\n",
       "      <th>simple_categories</th>\n",
       "    </tr>\n",
       "  </thead>\n",
       "  <tbody>\n",
       "    <tr>\n",
       "      <th>12253</th>\n",
       "      <td>Krishna Dharabasi,à¤•à¥ƒà¤·à¥à¤£ à¤§à¤°à¤¾à¤µ...</td>\n",
       "      <td>Radha (à¤°à¤¾à¤§à¤¾) represents an example of ...</td>\n",
       "      <td>Fiction</td>\n",
       "      <td>https://i.gr-assets.com/images/S/compressed.ph...</td>\n",
       "      <td>9993329053</td>\n",
       "      <td>https://goodreads.com/book/show/13445136-radha</td>\n",
       "      <td>262</td>\n",
       "      <td>4.17</td>\n",
       "      <td>64</td>\n",
       "      <td>à¤°à¤¾à¤§à¤¾ [Radha]</td>\n",
       "      <td>736</td>\n",
       "      <td>9993329053 Radha (à¤°à¤¾à¤§à¤¾) represents an ...</td>\n",
       "      <td>Fiction</td>\n",
       "    </tr>\n",
       "  </tbody>\n",
       "</table>\n",
       "</div>"
      ],
      "text/plain": [
       "                                                  author  \\\n",
       "12253  Krishna Dharabasi,à¤•à¥ƒà¤·à¥à¤£ à¤§à¤°à¤¾à¤µ...   \n",
       "\n",
       "                                                    desc    genre  \\\n",
       "12253  Radha (à¤°à¤¾à¤§à¤¾) represents an example of ...  Fiction   \n",
       "\n",
       "                                                     img        isbn  \\\n",
       "12253  https://i.gr-assets.com/images/S/compressed.ph...  9993329053   \n",
       "\n",
       "                                                 link  pages  rating  reviews  \\\n",
       "12253  https://goodreads.com/book/show/13445136-radha    262    4.17       64   \n",
       "\n",
       "                      title  totalratings  \\\n",
       "12253  à¤°à¤¾à¤§à¤¾ [Radha]           736   \n",
       "\n",
       "                                      tagged_description simple_categories  \n",
       "12253  9993329053 Radha (à¤°à¤¾à¤§à¤¾) represents an ...           Fiction  "
      ]
     },
     "execution_count": 109,
     "metadata": {},
     "output_type": "execute_result"
    }
   ],
   "source": [
    "books[~(books[\"simple_categories\"].isna())]"
   ]
  },
  {
   "cell_type": "code",
   "execution_count": 110,
   "id": "000efafd",
   "metadata": {},
   "outputs": [],
   "source": [
    "fine_tuning_df = books[~(books[\"simple_categories\"].isna())]"
   ]
  },
  {
   "cell_type": "code",
   "execution_count": 111,
   "id": "c511c4bb",
   "metadata": {},
   "outputs": [],
   "source": [
    "fine_tuning_df = fine_tuning_df[[\"desc\", \"simple_categories\"]]"
   ]
  },
  {
   "cell_type": "code",
   "execution_count": 112,
   "id": "373909ef",
   "metadata": {},
   "outputs": [
    {
     "data": {
      "text/html": [
       "<div>\n",
       "<style scoped>\n",
       "    .dataframe tbody tr th:only-of-type {\n",
       "        vertical-align: middle;\n",
       "    }\n",
       "\n",
       "    .dataframe tbody tr th {\n",
       "        vertical-align: top;\n",
       "    }\n",
       "\n",
       "    .dataframe thead th {\n",
       "        text-align: right;\n",
       "    }\n",
       "</style>\n",
       "<table border=\"1\" class=\"dataframe\">\n",
       "  <thead>\n",
       "    <tr style=\"text-align: right;\">\n",
       "      <th></th>\n",
       "      <th>desc</th>\n",
       "      <th>simple_categories</th>\n",
       "    </tr>\n",
       "  </thead>\n",
       "  <tbody>\n",
       "    <tr>\n",
       "      <th>12253</th>\n",
       "      <td>Radha (à¤°à¤¾à¤§à¤¾) represents an example of ...</td>\n",
       "      <td>Fiction</td>\n",
       "    </tr>\n",
       "  </tbody>\n",
       "</table>\n",
       "</div>"
      ],
      "text/plain": [
       "                                                    desc simple_categories\n",
       "12253  Radha (à¤°à¤¾à¤§à¤¾) represents an example of ...           Fiction"
      ]
     },
     "execution_count": 112,
     "metadata": {},
     "output_type": "execute_result"
    }
   ],
   "source": [
    "fine_tuning_df"
   ]
  },
  {
   "cell_type": "code",
   "execution_count": 113,
   "id": "7e133ac2",
   "metadata": {},
   "outputs": [
    {
     "data": {
      "text/html": [
       "<div>\n",
       "<style scoped>\n",
       "    .dataframe tbody tr th:only-of-type {\n",
       "        vertical-align: middle;\n",
       "    }\n",
       "\n",
       "    .dataframe tbody tr th {\n",
       "        vertical-align: top;\n",
       "    }\n",
       "\n",
       "    .dataframe thead th {\n",
       "        text-align: right;\n",
       "    }\n",
       "</style>\n",
       "<table border=\"1\" class=\"dataframe\">\n",
       "  <thead>\n",
       "    <tr style=\"text-align: right;\">\n",
       "      <th></th>\n",
       "      <th>desc</th>\n",
       "      <th>simple_categories</th>\n",
       "    </tr>\n",
       "  </thead>\n",
       "  <tbody>\n",
       "    <tr>\n",
       "      <th>12253</th>\n",
       "      <td>Radha (à¤°à¤¾à¤§à¤¾) represents an example of ...</td>\n",
       "      <td>Fiction</td>\n",
       "    </tr>\n",
       "  </tbody>\n",
       "</table>\n",
       "</div>"
      ],
      "text/plain": [
       "                                                    desc simple_categories\n",
       "12253  Radha (à¤°à¤¾à¤§à¤¾) represents an example of ...           Fiction"
      ]
     },
     "execution_count": 113,
     "metadata": {},
     "output_type": "execute_result"
    }
   ],
   "source": [
    "fine_tuning_df[fine_tuning_df[\"simple_categories\"]==\"Fiction\"]"
   ]
  },
  {
   "cell_type": "code",
   "execution_count": 114,
   "id": "8ae7001f",
   "metadata": {},
   "outputs": [],
   "source": [
    "fine_tuning_df.to_csv(\"fine_tuning_df.csv\", index = False)"
   ]
  },
  {
   "cell_type": "code",
   "execution_count": 115,
   "id": "e60893f2",
   "metadata": {},
   "outputs": [
    {
     "name": "stderr",
     "output_type": "stream",
     "text": [
      "Device set to use cpu\n"
     ]
    }
   ],
   "source": [
    "from transformers.pipelines import pipeline\n",
    "\n",
    "fiction_categories = [\"Fiction\", \"Nonfiction\"]\n",
    "\n",
    "pipe = pipeline(\"zero-shot-classification\", model=\"MoritzLaurer/DeBERTa-v3-large-mnli-fever-anli-ling-wanli\",)"
   ]
  },
  {
   "cell_type": "code",
   "execution_count": 117,
   "id": "ffa4aeaa",
   "metadata": {},
   "outputs": [],
   "source": [
    "sequence = books.loc[books[\"simple_categories\"] == \"Fiction\", \"desc\"].reset_index(drop=True)[0]"
   ]
  },
  {
   "cell_type": "code",
   "execution_count": 88,
   "id": "c7e326d8",
   "metadata": {},
   "outputs": [
    {
     "data": {
      "text/plain": [
       "{'sequence': \"Injured in a cattle stampede on a drive through Kansas, Bill is healing in Redemption. Tended to by a shopkeeper's lovely daughter, Eden Monroe, there are worse places he could be. But Bill knows something's wrong. A series of unexplained killings plagues the town. It's up to Bill to figure out what's going on before his beloved Eden gets caught in the cross fire.\",\n",
       " 'labels': ['Fiction', 'Nonfiction'],\n",
       " 'scores': [0.9987571239471436, 0.0012428824556991458]}"
      ]
     },
     "execution_count": 88,
     "metadata": {},
     "output_type": "execute_result"
    }
   ],
   "source": [
    "pipe(sequence, fiction_categories)"
   ]
  },
  {
   "cell_type": "code",
   "execution_count": 118,
   "id": "07f601a2",
   "metadata": {},
   "outputs": [
    {
     "data": {
      "text/plain": [
       "'Fiction'"
      ]
     },
     "execution_count": 118,
     "metadata": {},
     "output_type": "execute_result"
    }
   ],
   "source": [
    "import numpy as np\n",
    "\n",
    "max_index = np.argmax(pipe(sequence, fiction_categories)[\"scores\"])\n",
    "max_label = pipe(sequence, fiction_categories)[\"labels\"][max_index]\n",
    "max_label"
   ]
  },
  {
   "cell_type": "code",
   "execution_count": 119,
   "id": "2c768725",
   "metadata": {},
   "outputs": [],
   "source": [
    "def generate_predictions(sequence, categories):\n",
    "    predictions = pipe(sequence, categories)\n",
    "    max_index = np.argmax(predictions[\"scores\"])\n",
    "    max_label = predictions[\"labels\"][max_index]\n",
    "    return max_label"
   ]
  },
  {
   "cell_type": "code",
   "execution_count": null,
   "id": "e68a206c",
   "metadata": {},
   "outputs": [],
   "source": [
    "from tqdm import tqdm\n",
    "\n",
    "actual_cats = []\n",
    "predicted_cats = []\n",
    "\n",
    "for i in tqdm(range(0, 300)):\n",
    "    sequence = books.loc[books[\"simple_categories\"] == \"Fiction\", \"desc\"].reset_index(drop=True)[i]\n",
    "    predicted_cats += [generate_predictions(sequence, fiction_categories)]\n",
    "    actual_cats += [\"Fiction\"]"
   ]
  },
  {
   "cell_type": "code",
   "execution_count": 92,
   "id": "9ca057e3",
   "metadata": {},
   "outputs": [
    {
     "name": "stderr",
     "output_type": "stream",
     "text": [
      "100%|██████████| 300/300 [09:55<00:00,  1.98s/it]\n"
     ]
    }
   ],
   "source": [
    "for i in tqdm(range(0, 300)):\n",
    "    sequence = books.loc[books[\"simple_categories\"] == \"Nonfiction\", \"desc\"].reset_index(drop=True)[i]\n",
    "    predicted_cats += [generate_predictions(sequence, fiction_categories)]\n",
    "    actual_cats += [\"Nonfiction\"]"
   ]
  },
  {
   "cell_type": "code",
   "execution_count": 93,
   "id": "74fdf88d",
   "metadata": {},
   "outputs": [],
   "source": [
    "predictions_df = pd.DataFrame({\"actual_categories\": actual_cats, \"predicted_categories\": predicted_cats})"
   ]
  },
  {
   "cell_type": "code",
   "execution_count": 94,
   "id": "af5ea6cb",
   "metadata": {},
   "outputs": [
    {
     "data": {
      "text/html": [
       "<div>\n",
       "<style scoped>\n",
       "    .dataframe tbody tr th:only-of-type {\n",
       "        vertical-align: middle;\n",
       "    }\n",
       "\n",
       "    .dataframe tbody tr th {\n",
       "        vertical-align: top;\n",
       "    }\n",
       "\n",
       "    .dataframe thead th {\n",
       "        text-align: right;\n",
       "    }\n",
       "</style>\n",
       "<table border=\"1\" class=\"dataframe\">\n",
       "  <thead>\n",
       "    <tr style=\"text-align: right;\">\n",
       "      <th></th>\n",
       "      <th>actual_categories</th>\n",
       "      <th>predicted_categories</th>\n",
       "    </tr>\n",
       "  </thead>\n",
       "  <tbody>\n",
       "    <tr>\n",
       "      <th>0</th>\n",
       "      <td>Fiction</td>\n",
       "      <td>Fiction</td>\n",
       "    </tr>\n",
       "    <tr>\n",
       "      <th>1</th>\n",
       "      <td>Fiction</td>\n",
       "      <td>Nonfiction</td>\n",
       "    </tr>\n",
       "    <tr>\n",
       "      <th>2</th>\n",
       "      <td>Fiction</td>\n",
       "      <td>Fiction</td>\n",
       "    </tr>\n",
       "    <tr>\n",
       "      <th>3</th>\n",
       "      <td>Fiction</td>\n",
       "      <td>Fiction</td>\n",
       "    </tr>\n",
       "    <tr>\n",
       "      <th>4</th>\n",
       "      <td>Fiction</td>\n",
       "      <td>Fiction</td>\n",
       "    </tr>\n",
       "    <tr>\n",
       "      <th>...</th>\n",
       "      <td>...</td>\n",
       "      <td>...</td>\n",
       "    </tr>\n",
       "    <tr>\n",
       "      <th>595</th>\n",
       "      <td>Nonfiction</td>\n",
       "      <td>Fiction</td>\n",
       "    </tr>\n",
       "    <tr>\n",
       "      <th>596</th>\n",
       "      <td>Nonfiction</td>\n",
       "      <td>Nonfiction</td>\n",
       "    </tr>\n",
       "    <tr>\n",
       "      <th>597</th>\n",
       "      <td>Nonfiction</td>\n",
       "      <td>Nonfiction</td>\n",
       "    </tr>\n",
       "    <tr>\n",
       "      <th>598</th>\n",
       "      <td>Nonfiction</td>\n",
       "      <td>Fiction</td>\n",
       "    </tr>\n",
       "    <tr>\n",
       "      <th>599</th>\n",
       "      <td>Nonfiction</td>\n",
       "      <td>Nonfiction</td>\n",
       "    </tr>\n",
       "  </tbody>\n",
       "</table>\n",
       "<p>600 rows × 2 columns</p>\n",
       "</div>"
      ],
      "text/plain": [
       "    actual_categories predicted_categories\n",
       "0             Fiction              Fiction\n",
       "1             Fiction           Nonfiction\n",
       "2             Fiction              Fiction\n",
       "3             Fiction              Fiction\n",
       "4             Fiction              Fiction\n",
       "..                ...                  ...\n",
       "595        Nonfiction              Fiction\n",
       "596        Nonfiction           Nonfiction\n",
       "597        Nonfiction           Nonfiction\n",
       "598        Nonfiction              Fiction\n",
       "599        Nonfiction           Nonfiction\n",
       "\n",
       "[600 rows x 2 columns]"
      ]
     },
     "execution_count": 94,
     "metadata": {},
     "output_type": "execute_result"
    }
   ],
   "source": [
    "predictions_df"
   ]
  },
  {
   "cell_type": "code",
   "execution_count": 95,
   "id": "dadda449",
   "metadata": {},
   "outputs": [],
   "source": [
    "predictions_df[\"correct_prediction\"] = (\n",
    "    np.where(predictions_df[\"actual_categories\"] == predictions_df[\"predicted_categories\"], 1, 0)\n",
    ")"
   ]
  },
  {
   "cell_type": "code",
   "execution_count": 96,
   "id": "74f50c58",
   "metadata": {},
   "outputs": [
    {
     "data": {
      "text/plain": [
       "np.float64(0.8683333333333333)"
      ]
     },
     "execution_count": 96,
     "metadata": {},
     "output_type": "execute_result"
    }
   ],
   "source": [
    "predictions_df[\"correct_prediction\"].sum() / len(predictions_df)"
   ]
  },
  {
   "cell_type": "code",
   "execution_count": 121,
   "id": "33fe1cfe",
   "metadata": {},
   "outputs": [],
   "source": [
    "isbns = []\n",
    "predicted_cats = []\n",
    "\n",
    "missing_cats = books.loc[books[\"simple_categories\"].isna(), [\"isbn\", \"desc\"]].reset_index(drop=True)"
   ]
  },
  {
   "cell_type": "code",
   "execution_count": null,
   "id": "1601ca61",
   "metadata": {},
   "outputs": [],
   "source": [
    "for i in tqdm(range(0, len(missing_cats))):\n",
    "    sequence = missing_cats[\"desc\"][i]\n",
    "    predicted_cats += [generate_predictions(sequence, fiction_categories)]\n",
    "    isbns += [missing_cats[\"isbn\"][i]]"
   ]
  },
  {
   "cell_type": "code",
   "execution_count": null,
   "id": "58a9d06e",
   "metadata": {},
   "outputs": [],
   "source": [
    "missing_predicted_df = pd.DataFrame({\"isbn\": isbns, \"predicted_categories\": predicted_cats})"
   ]
  },
  {
   "cell_type": "code",
   "execution_count": null,
   "id": "632b466a",
   "metadata": {},
   "outputs": [],
   "source": [
    "missing_predicted_df"
   ]
  },
  {
   "cell_type": "code",
   "execution_count": null,
   "id": "24773f59",
   "metadata": {},
   "outputs": [],
   "source": [
    "books = pd.merge(books, missing_predicted_df, on=\"isbn\", how=\"left\")\n",
    "books[\"simple_categories\"] = np.where(books[\"simple_categories\"].isna(), books[\"predicted_categories\"], books[\"simple_categories\"])\n",
    "books = books.drop(columns = [\"predicted_categories\"])"
   ]
  },
  {
   "cell_type": "code",
   "execution_count": null,
   "id": "86a239d4",
   "metadata": {},
   "outputs": [],
   "source": [
    "books.to_csv(\"books_with_categories.csv\", index=False)"
   ]
  }
 ],
 "metadata": {
  "kernelspec": {
   "display_name": "brs",
   "language": "python",
   "name": "python3"
  },
  "language_info": {
   "codemirror_mode": {
    "name": "ipython",
    "version": 3
   },
   "file_extension": ".py",
   "mimetype": "text/x-python",
   "name": "python",
   "nbconvert_exporter": "python",
   "pygments_lexer": "ipython3",
   "version": "3.11.13"
  }
 },
 "nbformat": 4,
 "nbformat_minor": 5
}
